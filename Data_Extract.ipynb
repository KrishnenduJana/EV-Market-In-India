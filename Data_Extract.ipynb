{
 "cells": [
  {
   "cell_type": "code",
   "execution_count": 4,
   "metadata": {},
   "outputs": [
    {
     "name": "stdout",
     "output_type": "stream",
     "text": [
      "Collecting beautifulsoup4\n",
      "  Downloading beautifulsoup4-4.12.2-py3-none-any.whl (142 kB)\n",
      "                                              0.0/143.0 kB ? eta -:--:--\n",
      "     --                                       10.2/143.0 kB ? eta -:--:--\n",
      "     -------                               30.7/143.0 kB 435.7 kB/s eta 0:00:01\n",
      "     ---------------------                 81.9/143.0 kB 573.4 kB/s eta 0:00:01\n",
      "     ----------------------------         112.6/143.0 kB 652.2 kB/s eta 0:00:01\n",
      "     ------------------------------------ 143.0/143.0 kB 771.7 kB/s eta 0:00:00\n",
      "Collecting soupsieve>1.2 (from beautifulsoup4)\n",
      "  Downloading soupsieve-2.4.1-py3-none-any.whl (36 kB)\n",
      "Installing collected packages: soupsieve, beautifulsoup4\n",
      "Successfully installed beautifulsoup4-4.12.2 soupsieve-2.4.1\n",
      "Note: you may need to restart the kernel to use updated packages.\n"
     ]
    }
   ],
   "source": [
    "pip install beautifulsoup4"
   ]
  },
  {
   "cell_type": "code",
   "execution_count": 5,
   "metadata": {},
   "outputs": [
    {
     "name": "stdout",
     "output_type": "stream",
     "text": [
      "Requirement already satisfied: requests in c:\\users\\hp\\appdata\\local\\programs\\python\\python310\\lib\\site-packages (2.28.1)\n",
      "Requirement already satisfied: charset-normalizer<3,>=2 in c:\\users\\hp\\appdata\\local\\programs\\python\\python310\\lib\\site-packages (from requests) (2.1.1)\n",
      "Requirement already satisfied: idna<4,>=2.5 in c:\\users\\hp\\appdata\\local\\programs\\python\\python310\\lib\\site-packages (from requests) (2.10)\n",
      "Requirement already satisfied: urllib3<1.27,>=1.21.1 in c:\\users\\hp\\appdata\\local\\programs\\python\\python310\\lib\\site-packages (from requests) (1.26.12)\n",
      "Requirement already satisfied: certifi>=2017.4.17 in c:\\users\\hp\\appdata\\local\\programs\\python\\python310\\lib\\site-packages (from requests) (2022.12.7)\n",
      "Note: you may need to restart the kernel to use updated packages.\n"
     ]
    }
   ],
   "source": [
    "\n",
    "pip install requests"
   ]
  },
  {
   "cell_type": "code",
   "execution_count": 3,
   "metadata": {},
   "outputs": [],
   "source": [
    "import requests\n",
    "from bs4 import BeautifulSoup\n",
    "\n",
    "# Send a GET request to the website\n",
    "url = \"https://www.zigwheels.com/newcars/electric-cars\"\n",
    "response = requests.get(url)\n",
    "\n",
    "# Parse the HTML content using BeautifulSoup\n",
    "soup = BeautifulSoup(response.content, \"html.parser\")\n",
    "\n",
    "# Find the container that holds the car listings\n",
    "car_container = soup.find(\"div\", {\"class\": \"sl-card p-0 zw-con ev-bdr\"}).find_all(\"div\", {\"class\": \"car-item-wrap\"})\n",
    "\n",
    "# Loop through each car listing and extract the desired information\n",
    "for car in car_container:\n",
    "    # Extract the car name from the car page\n",
    "    car_name = car_soup.find(\"h1\", {\"class\": \"model-name\"}).text.strip()\n",
    "\n",
    "    # Extract the car price from the car page\n",
    "    car_price = car_soup.find(\"div\", {\"class\": \"price\"}).text.strip()\n",
    "\n",
    "    # Extract the car image URL from the car page\n",
    "    car_image = car_soup.find(\"div\", {\"class\": \"img-wrap\"}).find(\"img\")[\"src\"]\n",
    "\n",
    "    # Print the extracted information\n",
    "    print(\"Car Name:\", car_name)\n",
    "    print(\"Car Price:\", car_price)\n",
    "    print(\"Car Image URL:\", car_image)\n",
    "    print(\"---------------------------\")\n"
   ]
  },
  {
   "cell_type": "code",
   "execution_count": 4,
   "metadata": {},
   "outputs": [
    {
     "ename": "AttributeError",
     "evalue": "'NoneType' object has no attribute 'find'",
     "output_type": "error",
     "traceback": [
      "\u001b[1;31m---------------------------------------------------------------------------\u001b[0m",
      "\u001b[1;31mAttributeError\u001b[0m                            Traceback (most recent call last)",
      "Cell \u001b[1;32mIn[4], line 17\u001b[0m\n\u001b[0;32m     14\u001b[0m \u001b[39m# Loop through each car listing and extract the desired information\u001b[39;00m\n\u001b[0;32m     15\u001b[0m \u001b[39mfor\u001b[39;00m car \u001b[39min\u001b[39;00m car_container:\n\u001b[0;32m     16\u001b[0m     \u001b[39m# Extract the car name\u001b[39;00m\n\u001b[1;32m---> 17\u001b[0m     car_name \u001b[39m=\u001b[39m car\u001b[39m.\u001b[39;49mfind(\u001b[39m\"\u001b[39;49m\u001b[39mdiv\u001b[39;49m\u001b[39m\"\u001b[39;49m, {\u001b[39m\"\u001b[39;49m\u001b[39mclass\u001b[39;49m\u001b[39m\"\u001b[39;49m: \u001b[39m\"\u001b[39;49m\u001b[39mfnt-14 lnk-hvr block of-hid ht-name\u001b[39;49m\u001b[39m\"\u001b[39;49m})\u001b[39m.\u001b[39;49mfind(\u001b[39m\"\u001b[39m\u001b[39ma\u001b[39m\u001b[39m\"\u001b[39m)\u001b[39m.\u001b[39mtext\u001b[39m.\u001b[39mstrip()\n\u001b[0;32m     19\u001b[0m     \u001b[39m# Extract the car price\u001b[39;00m\n\u001b[0;32m     20\u001b[0m     car_price \u001b[39m=\u001b[39m car\u001b[39m.\u001b[39mfind(\u001b[39m\"\u001b[39m\u001b[39mdiv\u001b[39m\u001b[39m\"\u001b[39m, {\u001b[39m\"\u001b[39m\u001b[39mclass\u001b[39m\u001b[39m\"\u001b[39m: \u001b[39m\"\u001b[39m\u001b[39mcar-item-price\u001b[39m\u001b[39m\"\u001b[39m})\u001b[39m.\u001b[39mtext\u001b[39m.\u001b[39mstrip()\n",
      "\u001b[1;31mAttributeError\u001b[0m: 'NoneType' object has no attribute 'find'"
     ]
    }
   ],
   "source": [
    "import requests\n",
    "from bs4 import BeautifulSoup\n",
    "\n",
    "# Send a GET request to the website\n",
    "url = \"https://www.zigwheels.com/newcars/electric-cars\"\n",
    "response = requests.get(url)\n",
    "\n",
    "# Parse the HTML content using BeautifulSoup\n",
    "soup = BeautifulSoup(response.content, \"html.parser\")\n",
    "\n",
    "# Find the container that holds the car listings\n",
    "car_container = soup.find(\"div\", {\"class\": \"sl-card p-0 zw-con ev-bdr\"}).find_all(\"div\", {\"class\": \"p-10 mke-ryt rel\"})\n",
    "\n",
    "# Loop through each car listing and extract the desired information\n",
    "for car in car_container:\n",
    "    # Extract the car name\n",
    "    car_name = car.find(\"div\", {\"class\": \"fnt-14 lnk-hvr block of-hid ht-name\"}).find(\"a\").text.strip()\n",
    "    \n",
    "    # Extract the car price\n",
    "    car_price = car.find(\"div\", {\"class\": \"car-item-price\"}).text.strip()\n",
    "    \n",
    "    # Extract the car image URL\n",
    "    car_image = car.find(\"div\", {\"class\": \"car-item-image\"}).find(\"img\")[\"src\"]\n",
    "    \n",
    "    # Print the extracted information\n",
    "    print(\"Car Name:\", car_name)\n",
    "    print(\"Car Price:\", car_price)\n",
    "    print(\"Car Image URL:\", car_image)\n",
    "    print(\"---------------------------\")\n"
   ]
  },
  {
   "cell_type": "code",
   "execution_count": 3,
   "metadata": {},
   "outputs": [],
   "source": [
    "import requests\n",
    "from bs4 import BeautifulSoup\n",
    "\n",
    "# Define the URL of the target webpage\n",
    "url = 'https://www.zigwheels.com/electric-cars'\n",
    "\n",
    "# Send a GET request to the URL and retrieve the HTML content\n",
    "response = requests.get(url)\n",
    "\n",
    "# Parse the HTML content using BeautifulSoup\n",
    "soup = BeautifulSoup(response.content, 'html.parser')\n",
    "\n",
    "# Find the HTML elements that contain the desired data\n",
    "# Use the developer tools or inspect the webpage to identify the relevant elements\n",
    "car_listings = soup.find_all('div', class_='sl-card p-0 zw-con ev-bdr')\n",
    "\n",
    "# Extract the required information from the HTML elements\n",
    "for car in car_listings:\n",
    "    # Extract specific data such as car name, price, range, etc.\n",
    "    name = car.find('div', class_='fnt-14 lnk-hvr block of-hid ht-name')\n",
    "    # price = car.find('span', class_='price').text.strip()\n",
    "    # range = car.find('span', class_='range').text.strip()\n",
    "    \n",
    "    # Print or store the extracted data as per your requirement\n",
    "    print(f\"Car: {name}\")\n",
    "    # print(f\"Price: {price}\")\n",
    "    # print(f\"Range: {range}\")\n",
    "    # print(\"-------------\")\n"
   ]
  },
  {
   "cell_type": "code",
   "execution_count": 1,
   "metadata": {},
   "outputs": [
    {
     "name": "stdout",
     "output_type": "stream",
     "text": [
      "[<p></p>, <p>This Python Tutorial is very well suited for Beginners, and also for experienced programmers with other programming languages like C++ and Java. This specially designed Python tutorial will help you learn Python Programming Language in the most efficient way, with topics from basics to advanced (like Web-scraping, Django, Deep-Learning, etc.) with examples.</p>, <p><span id=\"more-136942\"></span></p>, <p><img alt=\"Python Tutorial\" class=\"alignnone size-full wp-image-973034\" height=\"470\" sizes=\"(max-width: 1000px) 100vw, 1000px\" src=\"https://media.geeksforgeeks.org/wp-content/cdn-uploads/20230305181456/Python4.png\" srcset=\"https://media.geeksforgeeks.org/wp-content/cdn-uploads/20230305181456/Python4.png 1000w, https://media.geeksforgeeks.org/wp-content/cdn-uploads/20230305181456/Python4-300x141.png 300w, https://media.geeksforgeeks.org/wp-content/cdn-uploads/20230305181456/Python4-768x361.png 768w, https://media.geeksforgeeks.org/wp-content/cdn-uploads/20230305181456/Python4-660x310.png 660w\" width=\"1000\"/></p>, <p>Python is a high-level, general-purpose, and very popular programming language. Python programming language (latest Python 3) is being used in web development, Machine Learning applications, along with all cutting-edge technology in Software Industry.</p>, <p>Python language is being used by almost all tech-giant companies like – Google, Amazon, Facebook, Instagram, Dropbox, Uber… etc.</p>, <p>The biggest strength of Python is huge collection of standard library which can be used for the following:</p>, <p>Python is currently the most widely used multi-purpose, high-level programming language, which allows programming in Object-Oriented and Procedural paradigms. Python programs generally are smaller than other programming languages like Java. Programmers have to type relatively less and the indentation requirement of the language, makes them readable all the time.</p>, <p><a href=\"#Basics\">Basics</a>, <a href=\"#io\">Input/Output</a>, <a href=\"#Data Types\">Data Types</a>, <a href=\"#Variables\">Variables</a>, <a href=\"#Operators\">Operators</a>, <a href=\"#Control Flow\">Control Flow</a>, <a href=\"#Functions\">Functions</a>, <a href=\"#Object Oriented Concepts\">Object Oriented Concepts</a>, <a href=\"#Exception Handling\">Exception Handling</a>, <a href=\"#Python Collections\">Python Collections</a>, <a href=\"#Django tutorial\">Django Framework</a>, <a href=\"#Data Analysis\">Data Analysis</a>, <a href=\"#Numpy\">Numpy</a>, <a href=\"#Pandas\">Pandas</a>, <a href=\"#Machine Learning with Python\">Machine Learning with Python</a>, <a href=\"#PythonGUI\">Python GUI</a>, <a href=\"#Modules in Python\">Modules in Python</a>, <a href=\"#WorkingWithDatabase\">Working with Database</a>, <a href=\"#Misc\">Misc</a>, <a href=\"#Applications and Projects\">Applications and Projects</a>, <a href=\"https://www.geeksforgeeks.org/python-multiple-choice-questions/\">Multiple Choice Questions</a></p>, <p>Here are the important topics that come under Python. After completing all the important topics, you’ll have a basic understanding of the Python programming language:-</p>, <p></p>, <p><a name=\"io\"></a><center></center></p>, <p><a name=\"Data Types\"></a><center></center></p>, <p></p>, <p><center></center></p>, <p></p>, <p><a name=\"Operators\"></a><center></center></p>, <p></p>, <p><a name=\"Control Flow\"></a><center></center></p>, <p></p>, <p><a name=\"Functions\"></a><center></center></p>, <p></p>, <p><a name=\"Object Oriented Concepts\"></a><center></center></p>, <p></p>, <p><a name=\"Exception Handling\"></a><center></center></p>, <p></p>, <p><a name=\"Python Collections\"></a><center></center></p>, <p></p>, <p></p>, <p><a name=\"Data Analysis\"></a><center></center></p>, <p></p>, <p><a name=\"Numpy\"></a><center></center></p>, <p></p>, <p><a name=\"Pandas\"></a><center></center></p>, <p></p>, <p><a name=\"Machine Learning with Python\"></a><center></center></p>, <p></p>, <p><a name=\"PythonGUI\"></a><center></center></p>, <p></p>, <p><a name=\"Modules in Python\"></a><center></center></p>, <p></p>, <p><a name=\"WorkingWithDatabase\"></a><center></center></p>, <p></p>, <p><a name=\"Misc\"></a><center></center></p>, <p></p>, <p><a name=\"Applications and Projects\"></a><center></center></p>, <p></p>, <p> <br/> </p>, <p><strong>Also, check</strong></p>]\n"
     ]
    }
   ],
   "source": [
    "import requests\n",
    "from bs4 import BeautifulSoup\n",
    "\n",
    "\n",
    "# Making a GET request\n",
    "r = requests.get('https://www.geeksforgeeks.org/python-programming-language/')\n",
    "\n",
    "# Parsing the HTML\n",
    "soup = BeautifulSoup(r.content, 'html.parser')\n",
    "\n",
    "s = soup.find('div', class_='entry-content')\n",
    "content = s.find_all('p')\n",
    "\n",
    "print(content)\n"
   ]
  },
  {
   "cell_type": "code",
   "execution_count": 7,
   "metadata": {},
   "outputs": [
    {
     "ename": "IndexError",
     "evalue": "list index out of range",
     "output_type": "error",
     "traceback": [
      "\u001b[1;31m---------------------------------------------------------------------------\u001b[0m",
      "\u001b[1;31mIndexError\u001b[0m                                Traceback (most recent call last)",
      "Cell \u001b[1;32mIn[7], line 15\u001b[0m\n\u001b[0;32m     13\u001b[0m \t\u001b[39mprint\u001b[39m(\u001b[39mf\u001b[39m\u001b[39m\"\u001b[39m\u001b[39m{\u001b[39;00m(i\u001b[39m \u001b[39m\u001b[39m-\u001b[39m\u001b[39m \u001b[39m\u001b[39m3\u001b[39m)\u001b[39m \u001b[39m\u001b[39m+\u001b[39m\u001b[39m \u001b[39murl\u001b[39m \u001b[39m\u001b[39m*\u001b[39m\u001b[39m \u001b[39m\u001b[39m15\u001b[39m\u001b[39m}\u001b[39;00m\u001b[39m\"\u001b[39m \u001b[39m+\u001b[39m titles[i]\u001b[39m.\u001b[39mtext)\n\u001b[0;32m     14\u001b[0m \u001b[39melse\u001b[39;00m:\n\u001b[1;32m---> 15\u001b[0m \t\u001b[39mprint\u001b[39m(\u001b[39mf\u001b[39m\u001b[39m\"\u001b[39m\u001b[39m{\u001b[39;00mi\u001b[39m \u001b[39m\u001b[39m-\u001b[39m\u001b[39m \u001b[39m\u001b[39m3\u001b[39m\u001b[39m}\u001b[39;00m\u001b[39m\"\u001b[39m \u001b[39m+\u001b[39m titles[i]\u001b[39m.\u001b[39mtext)\n",
      "\u001b[1;31mIndexError\u001b[0m: list index out of range"
     ]
    }
   ],
   "source": [
    "import requests\n",
    "from bs4 import BeautifulSoup as bs\n",
    "\n",
    "URL = ['https://www.geeksforgeeks.org','https://www.geeksforgeeks.org/page/10/']\n",
    "\n",
    "for url in range(0,2):\n",
    "\treq = requests.get(URL[url])\n",
    "\tsoup = bs(req.text, 'html.parser')\n",
    "\n",
    "\ttitles = soup.find_all('div',attrs={'class','head'})\n",
    "\tfor i in range(4, 19):\n",
    "\t\tif url+1 > 1:\n",
    "\t\t\tprint(f\"{(i - 3) + url * 15}\" + titles[i].text)\n",
    "\t\telse:\n",
    "\t\t\tprint(f\"{i - 3}\" + titles[i].text)\n"
   ]
  },
  {
   "cell_type": "code",
   "execution_count": 2,
   "metadata": {},
   "outputs": [
    {
     "ename": "NameError",
     "evalue": "name 'req' is not defined",
     "output_type": "error",
     "traceback": [
      "\u001b[1;31m---------------------------------------------------------------------------\u001b[0m",
      "\u001b[1;31mNameError\u001b[0m                                 Traceback (most recent call last)",
      "Cell \u001b[1;32mIn[2], line 7\u001b[0m\n\u001b[0;32m      3\u001b[0m \u001b[39mimport\u001b[39;00m \u001b[39mcsv\u001b[39;00m\n\u001b[0;32m      5\u001b[0m URL \u001b[39m=\u001b[39m \u001b[39m'\u001b[39m\u001b[39mhttps://www.geeksforgeeks.org/page/\u001b[39m\u001b[39m'\u001b[39m\n\u001b[1;32m----> 7\u001b[0m soup \u001b[39m=\u001b[39m bs(req\u001b[39m.\u001b[39mtext, \u001b[39m'\u001b[39m\u001b[39mhtml.parser\u001b[39m\u001b[39m'\u001b[39m)\n\u001b[0;32m      9\u001b[0m titles \u001b[39m=\u001b[39m soup\u001b[39m.\u001b[39mfind_all(\u001b[39m'\u001b[39m\u001b[39mdiv\u001b[39m\u001b[39m'\u001b[39m, attrs\u001b[39m=\u001b[39m{\u001b[39m'\u001b[39m\u001b[39mclass\u001b[39m\u001b[39m'\u001b[39m, \u001b[39m'\u001b[39m\u001b[39mhead\u001b[39m\u001b[39m'\u001b[39m})\n\u001b[0;32m     10\u001b[0m titles_list \u001b[39m=\u001b[39m []\n",
      "\u001b[1;31mNameError\u001b[0m: name 'req' is not defined"
     ]
    }
   ],
   "source": [
    "import requests\n",
    "from bs4 import BeautifulSoup as bs\n",
    "import csv\n",
    "\n",
    "URL = 'https://www.geeksforgeeks.org/page/'\n",
    "\n",
    "soup = bs(req.text, 'html.parser')\n",
    "\n",
    "titles = soup.find_all('div', attrs={'class', 'head'})\n",
    "titles_list = []\n",
    "\n",
    "count = 1\n",
    "for title in titles:\n",
    "\td = {}\n",
    "\td['Title Number'] = f'Title {count}'\n",
    "\td['Title Name'] = title.text\n",
    "\tcount += 1\n",
    "\ttitles_list.append(d)\n",
    "\n",
    "filename = 'titles.csv'\n",
    "with open(filename, 'w', newline='') as f:\n",
    "\tw = csv.DictWriter(f,['Title Number','Title Name'])\n",
    "\tw.writeheader()\n",
    "\t\n",
    "\tw.writerows(titles_list)\n"
   ]
  },
  {
   "cell_type": "code",
   "execution_count": null,
   "metadata": {},
   "outputs": [],
   "source": []
  },
  {
   "cell_type": "code",
   "execution_count": null,
   "metadata": {},
   "outputs": [],
   "source": []
  },
  {
   "cell_type": "code",
   "execution_count": null,
   "metadata": {},
   "outputs": [],
   "source": []
  },
  {
   "cell_type": "code",
   "execution_count": null,
   "metadata": {},
   "outputs": [],
   "source": []
  },
  {
   "cell_type": "code",
   "execution_count": null,
   "metadata": {},
   "outputs": [],
   "source": []
  },
  {
   "cell_type": "code",
   "execution_count": null,
   "metadata": {},
   "outputs": [],
   "source": []
  },
  {
   "cell_type": "code",
   "execution_count": null,
   "metadata": {},
   "outputs": [],
   "source": []
  },
  {
   "attachments": {},
   "cell_type": "markdown",
   "metadata": {},
   "source": [
    "# $c^2$"
   ]
  },
  {
   "cell_type": "markdown",
   "metadata": {},
   "source": []
  }
 ],
 "metadata": {
  "kernelspec": {
   "display_name": "Python 3",
   "language": "python",
   "name": "python3"
  },
  "language_info": {
   "codemirror_mode": {
    "name": "ipython",
    "version": 3
   },
   "file_extension": ".py",
   "mimetype": "text/x-python",
   "name": "python",
   "nbconvert_exporter": "python",
   "pygments_lexer": "ipython3",
   "version": "3.10.6"
  },
  "orig_nbformat": 4
 },
 "nbformat": 4,
 "nbformat_minor": 2
}
